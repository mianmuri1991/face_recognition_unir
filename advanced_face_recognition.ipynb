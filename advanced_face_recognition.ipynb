{
 "cells": [
  {
   "cell_type": "markdown",
   "id": "e90cfa4a",
   "metadata": {},
   "source": [
    "<b>Avoiding memory problems</b>"
   ]
  },
  {
   "cell_type": "code",
   "execution_count": 3,
   "id": "63ae6080",
   "metadata": {},
   "outputs": [],
   "source": [
    "import os\n",
    "os.environ['KMP_DUPLICATE_LIB_OK']='True'"
   ]
  },
  {
   "cell_type": "markdown",
   "id": "0a3af1ff",
   "metadata": {},
   "source": [
    "<b>Import useful libraries</b>"
   ]
  },
  {
   "cell_type": "code",
   "execution_count": 34,
   "id": "i5bm5oxDYfdD",
   "metadata": {
    "executionInfo": {
     "elapsed": 7833,
     "status": "ok",
     "timestamp": 1685646972187,
     "user": {
      "displayName": "Miguel Angel Murillo Arteaga",
      "userId": "14181500928633793253"
     },
     "user_tz": 300
    },
    "id": "i5bm5oxDYfdD"
   },
   "outputs": [],
   "source": [
    "from keras.preprocessing.image import ImageDataGenerator #Data Augmentation\n",
    "from tensorflow.keras import preprocessing #Manage images\n",
    "from keras.applications import VGG16 #Pre trained image model\n",
    "from keras.applications.vgg16 import preprocess_input #Preprocessing\n",
    "from keras.applications.imagenet_utils import decode_predictions #Decoding predictions\n",
    "from keras.models import Sequential, load_model #Sequential model for a ANN\n",
    "from keras.layers import Dense, Conv2D, MaxPooling2D, Flatten, Dropout #Importing convolutional 2D, Max pooling 2D, Dense and Flatten layers\n",
    "from keras.optimizers import Adam #Importing Adam optimizer, it uses variable learning rate and momentum vector\n",
    "from PIL import Image #Useful image to process images\n",
    "import pandas as pd #Library to manage dataframes\n",
    "import matplotlib.pyplot as plt #Library to make plots, etc\n",
    "from keras.callbacks import ModelCheckpoint #Checkpoint\n",
    "import numpy as np #Numpy\n",
    "import warnings"
   ]
  },
  {
   "cell_type": "markdown",
   "id": "de40519b",
   "metadata": {},
   "source": [
    "<b>Resizing training images to the same scale in pixels</b>"
   ]
  },
  {
   "cell_type": "code",
   "execution_count": 5,
   "id": "a72a6bba",
   "metadata": {},
   "outputs": [],
   "source": [
    "directory = os.listdir('./train_original')\n",
    "for elem in directory:\n",
    "    original_directory = os.path.join('./train_original/',elem)\n",
    "    resized_directory = os.path.join('./train_dir/',elem)\n",
    "    target_size = (224, 224) #Target size needed for VGG16 (224x224 pixels)\n",
    "    image_files = os.listdir(original_directory)\n",
    "    for image_file in image_files:\n",
    "        image_path = os.path.join(original_directory, image_file)\n",
    "        image = Image.open(image_path)\n",
    "        resized_image = image.resize(target_size)\n",
    "        resized_image_path = os.path.join(resized_directory, image_file)\n",
    "        resized_image.save(resized_image_path)"
   ]
  },
  {
   "cell_type": "markdown",
   "id": "3ddb039c",
   "metadata": {},
   "source": [
    "<b>Resizing validation images to the same scale in pixels</b>"
   ]
  },
  {
   "cell_type": "code",
   "execution_count": 6,
   "id": "5c6f5009",
   "metadata": {},
   "outputs": [],
   "source": [
    "directory = os.listdir('./validation_original')\n",
    "for elem in directory:\n",
    "    original_directory = os.path.join('./validation_original/',elem)\n",
    "    resized_directory = os.path.join('./validation_dir/',elem)\n",
    "    target_size = (224, 224) #Target size needed for VGG16 (224x224 pixels)\n",
    "    image_files = os.listdir(original_directory)\n",
    "    for image_file in image_files:\n",
    "        image_path = os.path.join(original_directory, image_file)\n",
    "        image = Image.open(image_path)\n",
    "        resized_image = image.resize(target_size)\n",
    "        resized_image_path = os.path.join(resized_directory, image_file)\n",
    "        resized_image.save(resized_image_path)"
   ]
  },
  {
   "cell_type": "markdown",
   "id": "29818219",
   "metadata": {},
   "source": [
    "<b>Train an validation directories</b>"
   ]
  },
  {
   "cell_type": "code",
   "execution_count": 7,
   "id": "7ab0a7e1",
   "metadata": {},
   "outputs": [],
   "source": [
    "train_directory = './train_dir'\n",
    "val_directory = './validation_dir'"
   ]
  },
  {
   "cell_type": "markdown",
   "id": "28d2e6e2",
   "metadata": {},
   "source": [
    "<b>I'm using Data Augmentation, so I'm configuring the image generator for the training and validation sets</b>"
   ]
  },
  {
   "cell_type": "code",
   "execution_count": 8,
   "id": "1eb62a4e",
   "metadata": {},
   "outputs": [],
   "source": [
    "train_datagen = ImageDataGenerator(\n",
    "    rescale=1./255,  #Rescaling pixel values to a range of 0 to 1\n",
    "    shear_range=0.2,  #Applying Random Shear Transformations\n",
    "    zoom_range=0.2,  # Applying Random Zoom Transformations\n",
    "    horizontal_flip=True  #Randomly flip images horizontally\n",
    ")\n",
    "\n",
    "val_datagen = ImageDataGenerator(rescale=1./255)"
   ]
  },
  {
   "cell_type": "markdown",
   "id": "3d5895f4",
   "metadata": {},
   "source": [
    "<b>Uploading the training and validation images</b>"
   ]
  },
  {
   "cell_type": "code",
   "execution_count": 9,
   "id": "fc2a72f0",
   "metadata": {},
   "outputs": [
    {
     "name": "stdout",
     "output_type": "stream",
     "text": [
      "Found 28 images belonging to 4 classes.\n",
      "Found 12 images belonging to 4 classes.\n"
     ]
    }
   ],
   "source": [
    "train_generator = train_datagen.flow_from_directory(\n",
    "    train_directory,\n",
    "    target_size=(224, 224),  #Input image size for VGG16 (224x224 pixels)\n",
    "    batch_size=32, #Batch size\n",
    "    class_mode='categorical'  #Categorical classification mode\n",
    ")\n",
    "\n",
    "val_generator = val_datagen.flow_from_directory(\n",
    "    val_directory,\n",
    "    target_size=(224, 224),  #Input image size for VGG16 (224x224 pixels)\n",
    "    batch_size=32, #Batch size\n",
    "    class_mode='categorical'  #Categorical classification mode\n",
    ")"
   ]
  },
  {
   "cell_type": "markdown",
   "id": "2eb1c51f",
   "metadata": {},
   "source": [
    "<b>Labels</b>"
   ]
  },
  {
   "cell_type": "code",
   "execution_count": 10,
   "id": "3cda2116",
   "metadata": {},
   "outputs": [],
   "source": [
    "labels = dict()\n",
    "tmp = [\"gaby\",\"lliguin\",\"miguel\",\"nube\"]\n",
    "for elem in set(train_generator.labels):\n",
    "    labels[elem] = tmp[elem]"
   ]
  },
  {
   "cell_type": "markdown",
   "id": "f9575203",
   "metadata": {},
   "source": [
    "<b>Using VGG16 that is a pre-trained deep learning model based on CNN, because I don't have a lot of images and I don't want to end up in overfitting</b>"
   ]
  },
  {
   "cell_type": "code",
   "execution_count": 11,
   "id": "0e8ff713",
   "metadata": {},
   "outputs": [],
   "source": [
    "#Weigths are calculated from trained with ImageNet dataset\n",
    "#With include_top=False I'm excluding the final layers of VGG16 'cause I've 4 classes and not 1000\n",
    "#input_shape are the dimensions required for VGG16\n",
    "vgg16 = VGG16(weights='imagenet', include_top=False, input_shape=(224, 224, 3))"
   ]
  },
  {
   "cell_type": "markdown",
   "id": "d1c0be7e",
   "metadata": {},
   "source": [
    "<b>Freezing the weigths of the initial layers of VGG16</b>"
   ]
  },
  {
   "cell_type": "code",
   "execution_count": 12,
   "id": "7b81e99d",
   "metadata": {},
   "outputs": [],
   "source": [
    "for layer in vgg16.layers:\n",
    "    layer.trainable = False"
   ]
  },
  {
   "cell_type": "markdown",
   "id": "28454260",
   "metadata": {},
   "source": [
    "<b>Creating the CNN</b>"
   ]
  },
  {
   "cell_type": "code",
   "execution_count": 13,
   "id": "729af20c",
   "metadata": {},
   "outputs": [],
   "source": [
    "cnn = Sequential()"
   ]
  },
  {
   "cell_type": "markdown",
   "id": "6df99696",
   "metadata": {},
   "source": [
    "<b>Adding VGG16 layer</b>"
   ]
  },
  {
   "cell_type": "code",
   "execution_count": 14,
   "id": "89905140",
   "metadata": {},
   "outputs": [],
   "source": [
    "cnn.add(vgg16)"
   ]
  },
  {
   "cell_type": "markdown",
   "id": "260a3a64",
   "metadata": {},
   "source": [
    "<b>Adding the convolutional layers, the activation function is RELU and the max pooling is used to extract the main features</b>"
   ]
  },
  {
   "cell_type": "code",
   "execution_count": 15,
   "id": "a3aed34f",
   "metadata": {},
   "outputs": [],
   "source": [
    "cnn.add(Conv2D(64, (3, 3), activation='relu', padding='same'))\n",
    "cnn.add(Conv2D(32, (3, 3), activation='relu', padding='same'))\n",
    "cnn.add(MaxPooling2D(pool_size=(2, 2)))\n",
    "cnn.add(Dropout(0.25))"
   ]
  },
  {
   "cell_type": "markdown",
   "id": "8a09d89e",
   "metadata": {},
   "source": [
    "<b>Adding dense layers in order to make the predictions, the first hidden layer has 256 neurons with RELU as activation function and a final layer with 4 neurons, one for each class, using softmax function for the classification</b>"
   ]
  },
  {
   "cell_type": "code",
   "execution_count": 16,
   "id": "2793def0",
   "metadata": {},
   "outputs": [],
   "source": [
    "cnn.add(Flatten())\n",
    "cnn.add(Dense(128, activation='relu'))\n",
    "cnn.add(Dropout(0.5))\n",
    "cnn.add(Dense(4, activation='softmax'))"
   ]
  },
  {
   "cell_type": "markdown",
   "id": "8af80745",
   "metadata": {},
   "source": [
    "<b>Compiling model</b>"
   ]
  },
  {
   "cell_type": "code",
   "execution_count": 17,
   "id": "559173ea",
   "metadata": {},
   "outputs": [],
   "source": [
    "cnn.compile(optimizer=Adam(learning_rate=0.001), loss='categorical_crossentropy', metrics=['accuracy'])"
   ]
  },
  {
   "cell_type": "markdown",
   "id": "6b1b2e2a",
   "metadata": {},
   "source": [
    "<b>Checkpoint to save the best model</b>"
   ]
  },
  {
   "cell_type": "code",
   "execution_count": 18,
   "id": "a8c25a0d",
   "metadata": {},
   "outputs": [],
   "source": [
    "checkpoint = ModelCheckpoint('best_cnn.h5', monitor='val_loss',save_best_only=True,mode='min',verbose=1)"
   ]
  },
  {
   "cell_type": "markdown",
   "id": "261f5dae",
   "metadata": {},
   "source": [
    "<b>Training model with 20 epochs</b>"
   ]
  },
  {
   "cell_type": "code",
   "execution_count": 19,
   "id": "91f3802c",
   "metadata": {},
   "outputs": [
    {
     "name": "stdout",
     "output_type": "stream",
     "text": [
      "Epoch 1/30\n",
      "1/1 [==============================] - ETA: 0s - loss: 1.5966 - accuracy: 0.2857\n",
      "Epoch 1: val_loss improved from inf to 1.41432, saving model to best_cnn.h5\n",
      "1/1 [==============================] - 26s 26s/step - loss: 1.5966 - accuracy: 0.2857 - val_loss: 1.4143 - val_accuracy: 0.2500\n",
      "Epoch 2/30\n",
      "1/1 [==============================] - ETA: 0s - loss: 1.3615 - accuracy: 0.1786\n",
      "Epoch 2: val_loss improved from 1.41432 to 1.33177, saving model to best_cnn.h5\n",
      "1/1 [==============================] - 24s 24s/step - loss: 1.3615 - accuracy: 0.1786 - val_loss: 1.3318 - val_accuracy: 0.5000\n",
      "Epoch 3/30\n",
      "1/1 [==============================] - ETA: 0s - loss: 1.5201 - accuracy: 0.2500\n",
      "Epoch 3: val_loss did not improve from 1.33177\n",
      "1/1 [==============================] - 21s 21s/step - loss: 1.5201 - accuracy: 0.2500 - val_loss: 1.3343 - val_accuracy: 0.3333\n",
      "Epoch 4/30\n",
      "1/1 [==============================] - ETA: 0s - loss: 1.3384 - accuracy: 0.3929\n",
      "Epoch 4: val_loss improved from 1.33177 to 1.31961, saving model to best_cnn.h5\n",
      "1/1 [==============================] - 25s 25s/step - loss: 1.3384 - accuracy: 0.3929 - val_loss: 1.3196 - val_accuracy: 0.3333\n",
      "Epoch 5/30\n",
      "1/1 [==============================] - ETA: 0s - loss: 1.2780 - accuracy: 0.3214\n",
      "Epoch 5: val_loss improved from 1.31961 to 1.29532, saving model to best_cnn.h5\n",
      "1/1 [==============================] - 24s 24s/step - loss: 1.2780 - accuracy: 0.3214 - val_loss: 1.2953 - val_accuracy: 0.4167\n",
      "Epoch 6/30\n",
      "1/1 [==============================] - ETA: 0s - loss: 1.2681 - accuracy: 0.4286\n",
      "Epoch 6: val_loss improved from 1.29532 to 1.25975, saving model to best_cnn.h5\n",
      "1/1 [==============================] - 24s 24s/step - loss: 1.2681 - accuracy: 0.4286 - val_loss: 1.2598 - val_accuracy: 0.5000\n",
      "Epoch 7/30\n",
      "1/1 [==============================] - ETA: 0s - loss: 1.2210 - accuracy: 0.4643\n",
      "Epoch 7: val_loss improved from 1.25975 to 1.20047, saving model to best_cnn.h5\n",
      "1/1 [==============================] - 24s 24s/step - loss: 1.2210 - accuracy: 0.4643 - val_loss: 1.2005 - val_accuracy: 0.7500\n",
      "Epoch 8/30\n",
      "1/1 [==============================] - ETA: 0s - loss: 1.0679 - accuracy: 0.6071\n",
      "Epoch 8: val_loss improved from 1.20047 to 1.10140, saving model to best_cnn.h5\n",
      "1/1 [==============================] - 23s 23s/step - loss: 1.0679 - accuracy: 0.6071 - val_loss: 1.1014 - val_accuracy: 0.9167\n",
      "Epoch 9/30\n",
      "1/1 [==============================] - ETA: 0s - loss: 1.0596 - accuracy: 0.6429\n",
      "Epoch 9: val_loss improved from 1.10140 to 1.06374, saving model to best_cnn.h5\n",
      "1/1 [==============================] - 26s 26s/step - loss: 1.0596 - accuracy: 0.6429 - val_loss: 1.0637 - val_accuracy: 0.8333\n",
      "Epoch 10/30\n",
      "1/1 [==============================] - ETA: 0s - loss: 0.9842 - accuracy: 0.6786\n",
      "Epoch 10: val_loss improved from 1.06374 to 1.03784, saving model to best_cnn.h5\n",
      "1/1 [==============================] - 36s 36s/step - loss: 0.9842 - accuracy: 0.6786 - val_loss: 1.0378 - val_accuracy: 0.8333\n",
      "Epoch 11/30\n",
      "1/1 [==============================] - ETA: 0s - loss: 1.0677 - accuracy: 0.5714\n",
      "Epoch 11: val_loss improved from 1.03784 to 0.98720, saving model to best_cnn.h5\n",
      "1/1 [==============================] - 24s 24s/step - loss: 1.0677 - accuracy: 0.5714 - val_loss: 0.9872 - val_accuracy: 0.8333\n",
      "Epoch 12/30\n",
      "1/1 [==============================] - ETA: 0s - loss: 0.8628 - accuracy: 0.6786\n",
      "Epoch 12: val_loss improved from 0.98720 to 0.90979, saving model to best_cnn.h5\n",
      "1/1 [==============================] - 27s 27s/step - loss: 0.8628 - accuracy: 0.6786 - val_loss: 0.9098 - val_accuracy: 0.8333\n",
      "Epoch 13/30\n",
      "1/1 [==============================] - ETA: 0s - loss: 0.8650 - accuracy: 0.7143\n",
      "Epoch 13: val_loss improved from 0.90979 to 0.82059, saving model to best_cnn.h5\n",
      "1/1 [==============================] - 24s 24s/step - loss: 0.8650 - accuracy: 0.7143 - val_loss: 0.8206 - val_accuracy: 0.7500\n",
      "Epoch 14/30\n",
      "1/1 [==============================] - ETA: 0s - loss: 0.6824 - accuracy: 0.8214\n",
      "Epoch 14: val_loss improved from 0.82059 to 0.73324, saving model to best_cnn.h5\n",
      "1/1 [==============================] - 28s 28s/step - loss: 0.6824 - accuracy: 0.8214 - val_loss: 0.7332 - val_accuracy: 0.8333\n",
      "Epoch 15/30\n",
      "1/1 [==============================] - ETA: 0s - loss: 0.7369 - accuracy: 0.6429\n",
      "Epoch 15: val_loss improved from 0.73324 to 0.69282, saving model to best_cnn.h5\n",
      "1/1 [==============================] - 26s 26s/step - loss: 0.7369 - accuracy: 0.6429 - val_loss: 0.6928 - val_accuracy: 0.8333\n",
      "Epoch 16/30\n",
      "1/1 [==============================] - ETA: 0s - loss: 0.5845 - accuracy: 0.7857\n",
      "Epoch 16: val_loss improved from 0.69282 to 0.63778, saving model to best_cnn.h5\n",
      "1/1 [==============================] - 28s 28s/step - loss: 0.5845 - accuracy: 0.7857 - val_loss: 0.6378 - val_accuracy: 0.8333\n",
      "Epoch 17/30\n",
      "1/1 [==============================] - ETA: 0s - loss: 0.5482 - accuracy: 0.8929\n",
      "Epoch 17: val_loss improved from 0.63778 to 0.58293, saving model to best_cnn.h5\n",
      "1/1 [==============================] - 22s 22s/step - loss: 0.5482 - accuracy: 0.8929 - val_loss: 0.5829 - val_accuracy: 0.9167\n",
      "Epoch 18/30\n",
      "1/1 [==============================] - ETA: 0s - loss: 0.3293 - accuracy: 0.9286\n",
      "Epoch 18: val_loss improved from 0.58293 to 0.56205, saving model to best_cnn.h5\n",
      "1/1 [==============================] - 31s 31s/step - loss: 0.3293 - accuracy: 0.9286 - val_loss: 0.5621 - val_accuracy: 0.8333\n",
      "Epoch 19/30\n",
      "1/1 [==============================] - ETA: 0s - loss: 0.5314 - accuracy: 0.8214\n",
      "Epoch 19: val_loss improved from 0.56205 to 0.52957, saving model to best_cnn.h5\n",
      "1/1 [==============================] - 27s 27s/step - loss: 0.5314 - accuracy: 0.8214 - val_loss: 0.5296 - val_accuracy: 0.8333\n",
      "Epoch 20/30\n",
      "1/1 [==============================] - ETA: 0s - loss: 0.4222 - accuracy: 0.9286\n",
      "Epoch 20: val_loss improved from 0.52957 to 0.48178, saving model to best_cnn.h5\n",
      "1/1 [==============================] - 30s 30s/step - loss: 0.4222 - accuracy: 0.9286 - val_loss: 0.4818 - val_accuracy: 0.8333\n",
      "Epoch 21/30\n",
      "1/1 [==============================] - ETA: 0s - loss: 0.1349 - accuracy: 0.9643\n",
      "Epoch 21: val_loss improved from 0.48178 to 0.46769, saving model to best_cnn.h5\n",
      "1/1 [==============================] - 32s 32s/step - loss: 0.1349 - accuracy: 0.9643 - val_loss: 0.4677 - val_accuracy: 0.8333\n",
      "Epoch 22/30\n",
      "1/1 [==============================] - ETA: 0s - loss: 0.2684 - accuracy: 0.8929\n",
      "Epoch 22: val_loss did not improve from 0.46769\n",
      "1/1 [==============================] - 35s 35s/step - loss: 0.2684 - accuracy: 0.8929 - val_loss: 0.4766 - val_accuracy: 0.8333\n",
      "Epoch 23/30\n",
      "1/1 [==============================] - ETA: 0s - loss: 0.2719 - accuracy: 0.8571\n",
      "Epoch 23: val_loss did not improve from 0.46769\n",
      "1/1 [==============================] - 36s 36s/step - loss: 0.2719 - accuracy: 0.8571 - val_loss: 0.4789 - val_accuracy: 0.8333\n",
      "Epoch 24/30\n",
      "1/1 [==============================] - ETA: 0s - loss: 0.3340 - accuracy: 0.8929\n",
      "Epoch 24: val_loss did not improve from 0.46769\n",
      "1/1 [==============================] - 30s 30s/step - loss: 0.3340 - accuracy: 0.8929 - val_loss: 0.4776 - val_accuracy: 0.8333\n",
      "Epoch 25/30\n",
      "1/1 [==============================] - ETA: 0s - loss: 0.2110 - accuracy: 0.9286\n",
      "Epoch 25: val_loss improved from 0.46769 to 0.42125, saving model to best_cnn.h5\n",
      "1/1 [==============================] - 30s 30s/step - loss: 0.2110 - accuracy: 0.9286 - val_loss: 0.4213 - val_accuracy: 0.9167\n",
      "Epoch 26/30\n",
      "1/1 [==============================] - ETA: 0s - loss: 0.2507 - accuracy: 0.9286\n",
      "Epoch 26: val_loss improved from 0.42125 to 0.35181, saving model to best_cnn.h5\n",
      "1/1 [==============================] - 30s 30s/step - loss: 0.2507 - accuracy: 0.9286 - val_loss: 0.3518 - val_accuracy: 0.9167\n",
      "Epoch 27/30\n",
      "1/1 [==============================] - ETA: 0s - loss: 0.1475 - accuracy: 0.9643\n",
      "Epoch 27: val_loss improved from 0.35181 to 0.29961, saving model to best_cnn.h5\n",
      "1/1 [==============================] - 31s 31s/step - loss: 0.1475 - accuracy: 0.9643 - val_loss: 0.2996 - val_accuracy: 0.9167\n",
      "Epoch 28/30\n",
      "1/1 [==============================] - ETA: 0s - loss: 0.1731 - accuracy: 0.9643\n",
      "Epoch 28: val_loss improved from 0.29961 to 0.28403, saving model to best_cnn.h5\n",
      "1/1 [==============================] - 29s 29s/step - loss: 0.1731 - accuracy: 0.9643 - val_loss: 0.2840 - val_accuracy: 0.9167\n"
     ]
    },
    {
     "name": "stdout",
     "output_type": "stream",
     "text": [
      "Epoch 29/30\n",
      "1/1 [==============================] - ETA: 0s - loss: 0.0956 - accuracy: 1.0000\n",
      "Epoch 29: val_loss improved from 0.28403 to 0.27360, saving model to best_cnn.h5\n",
      "1/1 [==============================] - 32s 32s/step - loss: 0.0956 - accuracy: 1.0000 - val_loss: 0.2736 - val_accuracy: 0.9167\n",
      "Epoch 30/30\n",
      "1/1 [==============================] - ETA: 0s - loss: 0.1312 - accuracy: 0.9643\n",
      "Epoch 30: val_loss improved from 0.27360 to 0.22744, saving model to best_cnn.h5\n",
      "1/1 [==============================] - 34s 34s/step - loss: 0.1312 - accuracy: 0.9643 - val_loss: 0.2274 - val_accuracy: 0.9167\n"
     ]
    },
    {
     "data": {
      "text/plain": [
       "<keras.callbacks.History at 0x20e81da63b0>"
      ]
     },
     "execution_count": 19,
     "metadata": {},
     "output_type": "execute_result"
    }
   ],
   "source": [
    "cnn.fit(train_generator, steps_per_epoch=len(train_generator), epochs=30,validation_data=val_generator, \n",
    "        validation_steps=len(val_generator),callbacks=[checkpoint])"
   ]
  },
  {
   "cell_type": "markdown",
   "id": "769c6091",
   "metadata": {},
   "source": [
    "<b>Plot</b>"
   ]
  },
  {
   "cell_type": "code",
   "execution_count": 20,
   "id": "3e575f75",
   "metadata": {},
   "outputs": [
    {
     "data": {
      "image/png": "[encoded data removed]",
      "text/plain": [
       "<Figure size 1000x800 with 1 Axes>"
      ]
     },
     "metadata": {},
     "output_type": "display_data"
    }
   ],
   "source": [
    "pd.DataFrame(cnn.history.history).plot(figsize=(10,8))\n",
    "plt.grid(True)\n",
    "plt.gca().set_ylim(-0.25,1.25)\n",
    "plt.show()"
   ]
  },
  {
   "cell_type": "markdown",
   "id": "979aeb55",
   "metadata": {},
   "source": [
    "<b>Evaluating with test images</b>"
   ]
  },
  {
   "cell_type": "code",
   "execution_count": 31,
   "id": "a894bdd0",
   "metadata": {},
   "outputs": [],
   "source": [
    "best_cnn = load_model('best_cnn.h5')"
   ]
  },
  {
   "cell_type": "code",
   "execution_count": 41,
   "id": "d77c4d22",
   "metadata": {},
   "outputs": [
    {
     "name": "stdout",
     "output_type": "stream",
     "text": [
      "Insert the name of the file in order to predict it : imagen4\n"
     ]
    }
   ],
   "source": [
    "person = input(\"Insert the name of the file in order to predict it : \")"
   ]
  },
  {
   "cell_type": "code",
   "execution_count": 42,
   "id": "fd71a2fb",
   "metadata": {},
   "outputs": [
    {
     "name": "stdout",
     "output_type": "stream",
     "text": [
      "1/1 [==============================] - 0s 478ms/step\n",
      "Person is : gaby\n"
     ]
    }
   ],
   "source": [
    "warnings.filterwarnings(\"ignore\")\n",
    "\n",
    "person = person+\".jpeg\"\n",
    "\n",
    "image_test = os.path.join('./test/',person)\n",
    "\n",
    "img = preprocessing.image.load_img(image_test, target_size=(224, 224), color_mode='rgb')\n",
    "    \n",
    "img_array = preprocessing.image.img_to_array(img)\n",
    "\n",
    "img_array = img_array.reshape((1, img_array.shape[0], img_array.shape[1], img_array.shape[2]))\n",
    "\n",
    "img_preprocessed = preprocess_input(img_array)\n",
    "\n",
    "preds = best_cnn.predict(img_preprocessed)\n",
    "\n",
    "max_index = np.argmax(preds)\n",
    "\n",
    "print(\"Person is : \" + labels[max_index])"
   ]
  },
  {
   "cell_type": "code",
   "execution_count": null,
   "id": "ac981fcf",
   "metadata": {},
   "outputs": [],
   "source": []
  }
 ],
 "metadata": {
  "colab": {
   "provenance": []
  },
  "kernelspec": {
   "display_name": "Python 3 (ipykernel)",
   "language": "python",
   "name": "python3"
  },
  "language_info": {
   "codemirror_mode": {
    "name": "ipython",
    "version": 3
   },
   "file_extension": ".py",
   "mimetype": "text/x-python",
   "name": "python",
   "nbconvert_exporter": "python",
   "pygments_lexer": "ipython3",
   "version": "3.10.9"
  }
 },
 "nbformat": 4,
 "nbformat_minor": 5
}
