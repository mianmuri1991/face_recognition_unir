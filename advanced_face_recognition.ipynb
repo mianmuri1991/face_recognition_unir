{
 "cells": [
  {
   "cell_type": "markdown",
   "id": "e90cfa4a",
   "metadata": {},
   "source": [
    "<b>Avoiding memory problems</b>"
   ]
  },
  {
   "cell_type": "code",
   "execution_count": 1,
   "id": "63ae6080",
   "metadata": {},
   "outputs": [],
   "source": [
    "import os\n",
    "os.environ['KMP_DUPLICATE_LIB_OK']='True'"
   ]
  },
  {
   "cell_type": "markdown",
   "id": "0a3af1ff",
   "metadata": {},
   "source": [
    "<b>Import useful libraries</b>"
   ]
  },
  {
   "cell_type": "code",
   "execution_count": 2,
   "id": "i5bm5oxDYfdD",
   "metadata": {
    "executionInfo": {
     "elapsed": 7833,
     "status": "ok",
     "timestamp": 1685646972187,
     "user": {
      "displayName": "Miguel Angel Murillo Arteaga",
      "userId": "14181500928633793253"
     },
     "user_tz": 300
    },
    "id": "i5bm5oxDYfdD"
   },
   "outputs": [],
   "source": [
    "from keras.preprocessing.image import ImageDataGenerator #Data Augmentation\n",
    "from tensorflow.keras import preprocessing #Manage images\n",
    "from keras.applications import VGG16 #Pre trained image model\n",
    "from keras.applications.vgg16 import preprocess_input #Preprocessing\n",
    "from keras.applications.imagenet_utils import decode_predictions #Decoding predictions\n",
    "from keras.models import Sequential, load_model #Sequential model for a ANN\n",
    "from keras.layers import Dense, Conv2D, MaxPooling2D, Flatten, Dropout #Importing convolutional 2D, Max pooling 2D, Dense and Flatten layers\n",
    "from keras.optimizers import Adam #Importing Adam optimizer, it uses variable learning rate and momentum vector\n",
    "from PIL import Image #Useful image to process images\n",
    "import pandas as pd #Library to manage dataframes\n",
    "import matplotlib.pyplot as plt #Library to make plots, etc\n",
    "from keras.callbacks import ModelCheckpoint #Checkpoint\n",
    "import numpy as np #Numpy"
   ]
  },
  {
   "cell_type": "markdown",
   "id": "de40519b",
   "metadata": {},
   "source": [
    "<b>Resizing training images to the same scale in pixels</b>"
   ]
  },
  {
   "cell_type": "code",
   "execution_count": 3,
   "id": "a72a6bba",
   "metadata": {},
   "outputs": [],
   "source": [
    "directory = os.listdir('./train_original')\n",
    "for elem in directory:\n",
    "    original_directory = os.path.join('./train_original/',elem)\n",
    "    resized_directory = os.path.join('./train_dir/',elem)\n",
    "    target_size = (224, 224) #Target size needed for VGG16 (224x224 pixels)\n",
    "    image_files = os.listdir(original_directory)\n",
    "    for image_file in image_files:\n",
    "        image_path = os.path.join(original_directory, image_file)\n",
    "        image = Image.open(image_path)\n",
    "        resized_image = image.resize(target_size)\n",
    "        resized_image_path = os.path.join(resized_directory, image_file)\n",
    "        resized_image.save(resized_image_path)"
   ]
  },
  {
   "cell_type": "markdown",
   "id": "3ddb039c",
   "metadata": {},
   "source": [
    "<b>Resizing validation images to the same scale in pixels</b>"
   ]
  },
  {
   "cell_type": "code",
   "execution_count": 4,
   "id": "5c6f5009",
   "metadata": {},
   "outputs": [],
   "source": [
    "directory = os.listdir('./validation_original')\n",
    "for elem in directory:\n",
    "    original_directory = os.path.join('./validation_original/',elem)\n",
    "    resized_directory = os.path.join('./validation_dir/',elem)\n",
    "    target_size = (224, 224) #Target size needed for VGG16 (224x224 pixels)\n",
    "    image_files = os.listdir(original_directory)\n",
    "    for image_file in image_files:\n",
    "        image_path = os.path.join(original_directory, image_file)\n",
    "        image = Image.open(image_path)\n",
    "        resized_image = image.resize(target_size)\n",
    "        resized_image_path = os.path.join(resized_directory, image_file)\n",
    "        resized_image.save(resized_image_path)"
   ]
  },
  {
   "cell_type": "markdown",
   "id": "29818219",
   "metadata": {},
   "source": [
    "<b>Train an validation directories</b>"
   ]
  },
  {
   "cell_type": "code",
   "execution_count": 5,
   "id": "7ab0a7e1",
   "metadata": {},
   "outputs": [],
   "source": [
    "train_directory = './train_dir'\n",
    "val_directory = './validation_dir'"
   ]
  },
  {
   "cell_type": "markdown",
   "id": "28d2e6e2",
   "metadata": {},
   "source": [
    "<b>I'm using Data Augmentation, so I'm configuring the image generator for the training and validation sets</b>"
   ]
  },
  {
   "cell_type": "code",
   "execution_count": 6,
   "id": "1eb62a4e",
   "metadata": {},
   "outputs": [],
   "source": [
    "train_datagen = ImageDataGenerator(\n",
    "    rescale=1./255,  #Rescaling pixel values to a range of 0 to 1\n",
    "    shear_range=0.2,  #Applying Random Shear Transformations\n",
    "    zoom_range=0.2,  # Applying Random Zoom Transformations\n",
    "    horizontal_flip=True  #Randomly flip images horizontally\n",
    ")\n",
    "\n",
    "val_datagen = ImageDataGenerator(rescale=1./255)"
   ]
  },
  {
   "cell_type": "markdown",
   "id": "3d5895f4",
   "metadata": {},
   "source": [
    "<b>Uploading the training and validation images</b>"
   ]
  },
  {
   "cell_type": "code",
   "execution_count": 7,
   "id": "fc2a72f0",
   "metadata": {},
   "outputs": [
    {
     "name": "stdout",
     "output_type": "stream",
     "text": [
      "Found 21 images belonging to 3 classes.\n",
      "Found 9 images belonging to 3 classes.\n"
     ]
    }
   ],
   "source": [
    "train_generator = train_datagen.flow_from_directory(\n",
    "    train_directory,\n",
    "    target_size=(224, 224),  #Input image size for VGG16 (224x224 pixels)\n",
    "    batch_size=32, #Batch size\n",
    "    class_mode='categorical'  #Categorical classification mode\n",
    ")\n",
    "\n",
    "val_generator = val_datagen.flow_from_directory(\n",
    "    val_directory,\n",
    "    target_size=(224, 224),  #Input image size for VGG16 (224x224 pixels)\n",
    "    batch_size=32, #Batch size\n",
    "    class_mode='categorical'  #Categorical classification mode\n",
    ")"
   ]
  },
  {
   "cell_type": "markdown",
   "id": "2eb1c51f",
   "metadata": {},
   "source": [
    "<b>Labels</b>"
   ]
  },
  {
   "cell_type": "code",
   "execution_count": 8,
   "id": "3cda2116",
   "metadata": {},
   "outputs": [],
   "source": [
    "labels = dict()\n",
    "tmp = [\"lliguin\",\"miguel\",\"nube\"]\n",
    "for elem in set(train_generator.labels):\n",
    "    labels[elem] = tmp[elem]"
   ]
  },
  {
   "cell_type": "markdown",
   "id": "f9575203",
   "metadata": {},
   "source": [
    "<b>Using VGG16 that is a pre-trained deep learning model based on CNN, because I don't have a lot of images and I don't want to end up in overfitting</b>"
   ]
  },
  {
   "cell_type": "code",
   "execution_count": 9,
   "id": "0e8ff713",
   "metadata": {},
   "outputs": [],
   "source": [
    "#Weigths are calculated from trained with ImageNet dataset\n",
    "#With include_top=False I'm excluding the final layers of VGG16 'cause I've 3 classes and not 1000\n",
    "#input_shape are the dimensions required for VGG16\n",
    "vgg16 = VGG16(weights='imagenet', include_top=False, input_shape=(224, 224, 3))"
   ]
  },
  {
   "cell_type": "markdown",
   "id": "d1c0be7e",
   "metadata": {},
   "source": [
    "<b>Freezing the weigths of the initial layers of VGG16</b>"
   ]
  },
  {
   "cell_type": "code",
   "execution_count": 10,
   "id": "7b81e99d",
   "metadata": {},
   "outputs": [],
   "source": [
    "for layer in vgg16.layers:\n",
    "    layer.trainable = False"
   ]
  },
  {
   "cell_type": "markdown",
   "id": "28454260",
   "metadata": {},
   "source": [
    "<b>Creating the CNN</b>"
   ]
  },
  {
   "cell_type": "code",
   "execution_count": 11,
   "id": "729af20c",
   "metadata": {},
   "outputs": [],
   "source": [
    "cnn = Sequential()"
   ]
  },
  {
   "cell_type": "markdown",
   "id": "6df99696",
   "metadata": {},
   "source": [
    "<b>Adding VGG16 layer</b>"
   ]
  },
  {
   "cell_type": "code",
   "execution_count": 12,
   "id": "89905140",
   "metadata": {},
   "outputs": [],
   "source": [
    "cnn.add(vgg16)"
   ]
  },
  {
   "cell_type": "markdown",
   "id": "260a3a64",
   "metadata": {},
   "source": [
    "<b>Adding the convolutional layers, the activation function is RELU and the max pooling is used to extract the main features</b>"
   ]
  },
  {
   "cell_type": "code",
   "execution_count": 13,
   "id": "a3aed34f",
   "metadata": {},
   "outputs": [],
   "source": [
    "cnn.add(Conv2D(64, (3, 3), activation='relu', padding='same'))\n",
    "cnn.add(Conv2D(32, (3, 3), activation='relu', padding='same'))\n",
    "cnn.add(MaxPooling2D(pool_size=(2, 2)))\n",
    "cnn.add(Dropout(0.25))"
   ]
  },
  {
   "cell_type": "markdown",
   "id": "8a09d89e",
   "metadata": {},
   "source": [
    "<b>Adding dense layers in order to make the predictions, the first hidden layer has 256 neurons with RELU as activation function and a final layer with 3 neurons, one for each class, using softmax function for the classification</b>"
   ]
  },
  {
   "cell_type": "code",
   "execution_count": 14,
   "id": "2793def0",
   "metadata": {},
   "outputs": [],
   "source": [
    "cnn.add(Flatten())\n",
    "cnn.add(Dense(128, activation='relu'))\n",
    "cnn.add(Dropout(0.5))\n",
    "cnn.add(Dense(3, activation='softmax'))"
   ]
  },
  {
   "cell_type": "markdown",
   "id": "8af80745",
   "metadata": {},
   "source": [
    "<b>Compiling model</b>"
   ]
  },
  {
   "cell_type": "code",
   "execution_count": 15,
   "id": "559173ea",
   "metadata": {},
   "outputs": [],
   "source": [
    "cnn.compile(optimizer=Adam(learning_rate=0.001), loss='categorical_crossentropy', metrics=['accuracy'])"
   ]
  },
  {
   "cell_type": "markdown",
   "id": "6b1b2e2a",
   "metadata": {},
   "source": [
    "<b>Checkpoint to save the best model</b>"
   ]
  },
  {
   "cell_type": "code",
   "execution_count": 16,
   "id": "a8c25a0d",
   "metadata": {},
   "outputs": [],
   "source": [
    "checkpoint = ModelCheckpoint('best_cnn.h5', monitor='val_loss',save_best_only=True,mode='min',verbose=1)"
   ]
  },
  {
   "cell_type": "markdown",
   "id": "261f5dae",
   "metadata": {},
   "source": [
    "<b>Training model with 20 epochs</b>"
   ]
  },
  {
   "cell_type": "code",
   "execution_count": 17,
   "id": "91f3802c",
   "metadata": {},
   "outputs": [
    {
     "name": "stdout",
     "output_type": "stream",
     "text": [
      "Epoch 1/30\n",
      "1/1 [==============================] - ETA: 0s - loss: 1.5195 - accuracy: 0.2381\n",
      "Epoch 1: val_loss improved from inf to 1.11712, saving model to best_cnn.h5\n",
      "1/1 [==============================] - 9s 9s/step - loss: 1.5195 - accuracy: 0.2381 - val_loss: 1.1171 - val_accuracy: 0.4444\n",
      "Epoch 2/30\n",
      "1/1 [==============================] - ETA: 0s - loss: 0.9278 - accuracy: 0.7619\n",
      "Epoch 2: val_loss did not improve from 1.11712\n",
      "1/1 [==============================] - 8s 8s/step - loss: 0.9278 - accuracy: 0.7619 - val_loss: 1.1916 - val_accuracy: 0.4444\n",
      "Epoch 3/30\n",
      "1/1 [==============================] - ETA: 0s - loss: 1.2384 - accuracy: 0.3810\n",
      "Epoch 3: val_loss improved from 1.11712 to 0.95414, saving model to best_cnn.h5\n",
      "1/1 [==============================] - 9s 9s/step - loss: 1.2384 - accuracy: 0.3810 - val_loss: 0.9541 - val_accuracy: 0.6667\n",
      "Epoch 4/30\n",
      "1/1 [==============================] - ETA: 0s - loss: 1.2094 - accuracy: 0.4286\n",
      "Epoch 4: val_loss improved from 0.95414 to 0.86230, saving model to best_cnn.h5\n",
      "1/1 [==============================] - 8s 8s/step - loss: 1.2094 - accuracy: 0.4286 - val_loss: 0.8623 - val_accuracy: 0.5556\n",
      "Epoch 5/30\n",
      "1/1 [==============================] - ETA: 0s - loss: 1.0141 - accuracy: 0.5238\n",
      "Epoch 5: val_loss improved from 0.86230 to 0.78403, saving model to best_cnn.h5\n",
      "1/1 [==============================] - 9s 9s/step - loss: 1.0141 - accuracy: 0.5238 - val_loss: 0.7840 - val_accuracy: 0.6667\n",
      "Epoch 6/30\n",
      "1/1 [==============================] - ETA: 0s - loss: 0.9105 - accuracy: 0.5714\n",
      "Epoch 6: val_loss improved from 0.78403 to 0.72926, saving model to best_cnn.h5\n",
      "1/1 [==============================] - 8s 8s/step - loss: 0.9105 - accuracy: 0.5714 - val_loss: 0.7293 - val_accuracy: 0.6667\n",
      "Epoch 7/30\n",
      "1/1 [==============================] - ETA: 0s - loss: 0.8117 - accuracy: 0.5714\n",
      "Epoch 7: val_loss did not improve from 0.72926\n",
      "1/1 [==============================] - 9s 9s/step - loss: 0.8117 - accuracy: 0.5714 - val_loss: 0.7783 - val_accuracy: 0.7778\n",
      "Epoch 8/30\n",
      "1/1 [==============================] - ETA: 0s - loss: 0.5627 - accuracy: 0.8095\n",
      "Epoch 8: val_loss did not improve from 0.72926\n",
      "1/1 [==============================] - 9s 9s/step - loss: 0.5627 - accuracy: 0.8095 - val_loss: 0.7600 - val_accuracy: 0.7778\n",
      "Epoch 9/30\n",
      "1/1 [==============================] - ETA: 0s - loss: 0.5740 - accuracy: 0.7619\n",
      "Epoch 9: val_loss improved from 0.72926 to 0.67983, saving model to best_cnn.h5\n",
      "1/1 [==============================] - 9s 9s/step - loss: 0.5740 - accuracy: 0.7619 - val_loss: 0.6798 - val_accuracy: 0.7778\n",
      "Epoch 10/30\n",
      "1/1 [==============================] - ETA: 0s - loss: 0.4947 - accuracy: 0.8095\n",
      "Epoch 10: val_loss improved from 0.67983 to 0.59064, saving model to best_cnn.h5\n",
      "1/1 [==============================] - 11s 11s/step - loss: 0.4947 - accuracy: 0.8095 - val_loss: 0.5906 - val_accuracy: 0.8889\n",
      "Epoch 11/30\n",
      "1/1 [==============================] - ETA: 0s - loss: 0.4862 - accuracy: 0.9048\n",
      "Epoch 11: val_loss improved from 0.59064 to 0.54349, saving model to best_cnn.h5\n",
      "1/1 [==============================] - 11s 11s/step - loss: 0.4862 - accuracy: 0.9048 - val_loss: 0.5435 - val_accuracy: 0.8889\n",
      "Epoch 12/30\n",
      "1/1 [==============================] - ETA: 0s - loss: 0.4140 - accuracy: 0.8571\n",
      "Epoch 12: val_loss improved from 0.54349 to 0.47973, saving model to best_cnn.h5\n",
      "1/1 [==============================] - 10s 10s/step - loss: 0.4140 - accuracy: 0.8571 - val_loss: 0.4797 - val_accuracy: 0.7778\n",
      "Epoch 13/30\n",
      "1/1 [==============================] - ETA: 0s - loss: 0.3530 - accuracy: 0.9048\n",
      "Epoch 13: val_loss improved from 0.47973 to 0.43819, saving model to best_cnn.h5\n",
      "1/1 [==============================] - 9s 9s/step - loss: 0.3530 - accuracy: 0.9048 - val_loss: 0.4382 - val_accuracy: 0.7778\n",
      "Epoch 14/30\n",
      "1/1 [==============================] - ETA: 0s - loss: 0.2320 - accuracy: 0.9524\n",
      "Epoch 14: val_loss did not improve from 0.43819\n",
      "1/1 [==============================] - 9s 9s/step - loss: 0.2320 - accuracy: 0.9524 - val_loss: 0.5198 - val_accuracy: 0.7778\n",
      "Epoch 15/30\n",
      "1/1 [==============================] - ETA: 0s - loss: 0.1353 - accuracy: 1.0000\n",
      "Epoch 15: val_loss did not improve from 0.43819\n",
      "1/1 [==============================] - 9s 9s/step - loss: 0.1353 - accuracy: 1.0000 - val_loss: 0.6209 - val_accuracy: 0.7778\n",
      "Epoch 16/30\n",
      "1/1 [==============================] - ETA: 0s - loss: 0.2446 - accuracy: 0.9048\n",
      "Epoch 16: val_loss did not improve from 0.43819\n",
      "1/1 [==============================] - 8s 8s/step - loss: 0.2446 - accuracy: 0.9048 - val_loss: 0.5782 - val_accuracy: 0.7778\n",
      "Epoch 17/30\n",
      "1/1 [==============================] - ETA: 0s - loss: 0.0848 - accuracy: 1.0000\n",
      "Epoch 17: val_loss did not improve from 0.43819\n",
      "1/1 [==============================] - 8s 8s/step - loss: 0.0848 - accuracy: 1.0000 - val_loss: 0.5482 - val_accuracy: 0.7778\n",
      "Epoch 18/30\n",
      "1/1 [==============================] - ETA: 0s - loss: 0.2063 - accuracy: 0.8571\n",
      "Epoch 18: val_loss improved from 0.43819 to 0.41710, saving model to best_cnn.h5\n",
      "1/1 [==============================] - 9s 9s/step - loss: 0.2063 - accuracy: 0.8571 - val_loss: 0.4171 - val_accuracy: 0.7778\n",
      "Epoch 19/30\n",
      "1/1 [==============================] - ETA: 0s - loss: 0.1146 - accuracy: 1.0000\n",
      "Epoch 19: val_loss improved from 0.41710 to 0.33265, saving model to best_cnn.h5\n",
      "1/1 [==============================] - 8s 8s/step - loss: 0.1146 - accuracy: 1.0000 - val_loss: 0.3327 - val_accuracy: 0.8889\n",
      "Epoch 20/30\n",
      "1/1 [==============================] - ETA: 0s - loss: 0.1592 - accuracy: 0.8571\n",
      "Epoch 20: val_loss did not improve from 0.33265\n",
      "1/1 [==============================] - 8s 8s/step - loss: 0.1592 - accuracy: 0.8571 - val_loss: 0.3521 - val_accuracy: 0.8889\n",
      "Epoch 21/30\n",
      "1/1 [==============================] - ETA: 0s - loss: 0.2255 - accuracy: 0.9048\n",
      "Epoch 21: val_loss did not improve from 0.33265\n",
      "1/1 [==============================] - 8s 8s/step - loss: 0.2255 - accuracy: 0.9048 - val_loss: 0.4332 - val_accuracy: 0.7778\n",
      "Epoch 22/30\n",
      "1/1 [==============================] - ETA: 0s - loss: 0.0679 - accuracy: 1.0000\n",
      "Epoch 22: val_loss did not improve from 0.33265\n",
      "1/1 [==============================] - 8s 8s/step - loss: 0.0679 - accuracy: 1.0000 - val_loss: 0.4969 - val_accuracy: 0.6667\n",
      "Epoch 23/30\n",
      "1/1 [==============================] - ETA: 0s - loss: 0.0945 - accuracy: 1.0000\n",
      "Epoch 23: val_loss did not improve from 0.33265\n",
      "1/1 [==============================] - 8s 8s/step - loss: 0.0945 - accuracy: 1.0000 - val_loss: 0.4794 - val_accuracy: 0.7778\n",
      "Epoch 24/30\n",
      "1/1 [==============================] - ETA: 0s - loss: 0.1338 - accuracy: 0.9524\n",
      "Epoch 24: val_loss did not improve from 0.33265\n",
      "1/1 [==============================] - 9s 9s/step - loss: 0.1338 - accuracy: 0.9524 - val_loss: 0.3474 - val_accuracy: 0.7778\n",
      "Epoch 25/30\n",
      "1/1 [==============================] - ETA: 0s - loss: 0.0800 - accuracy: 1.0000\n",
      "Epoch 25: val_loss improved from 0.33265 to 0.26133, saving model to best_cnn.h5\n",
      "1/1 [==============================] - 10s 10s/step - loss: 0.0800 - accuracy: 1.0000 - val_loss: 0.2613 - val_accuracy: 0.8889\n",
      "Epoch 26/30\n",
      "1/1 [==============================] - ETA: 0s - loss: 0.0261 - accuracy: 1.0000\n",
      "Epoch 26: val_loss did not improve from 0.26133\n",
      "1/1 [==============================] - 10s 10s/step - loss: 0.0261 - accuracy: 1.0000 - val_loss: 0.2632 - val_accuracy: 0.8889\n",
      "Epoch 27/30\n",
      "1/1 [==============================] - ETA: 0s - loss: 0.0048 - accuracy: 1.0000\n",
      "Epoch 27: val_loss did not improve from 0.26133\n",
      "1/1 [==============================] - 11s 11s/step - loss: 0.0048 - accuracy: 1.0000 - val_loss: 0.2997 - val_accuracy: 0.8889\n",
      "Epoch 28/30\n",
      "1/1 [==============================] - ETA: 0s - loss: 0.0564 - accuracy: 1.0000\n",
      "Epoch 28: val_loss did not improve from 0.26133\n",
      "1/1 [==============================] - 11s 11s/step - loss: 0.0564 - accuracy: 1.0000 - val_loss: 0.3662 - val_accuracy: 0.8889\n",
      "Epoch 29/30\n",
      "1/1 [==============================] - ETA: 0s - loss: 0.0459 - accuracy: 1.0000\n",
      "Epoch 29: val_loss did not improve from 0.26133\n",
      "1/1 [==============================] - 9s 9s/step - loss: 0.0459 - accuracy: 1.0000 - val_loss: 0.4254 - val_accuracy: 0.8889\n",
      "Epoch 30/30\n"
     ]
    },
    {
     "name": "stdout",
     "output_type": "stream",
     "text": [
      "1/1 [==============================] - ETA: 0s - loss: 0.0696 - accuracy: 1.0000\n",
      "Epoch 30: val_loss did not improve from 0.26133\n",
      "1/1 [==============================] - 10s 10s/step - loss: 0.0696 - accuracy: 1.0000 - val_loss: 0.4814 - val_accuracy: 0.8889\n"
     ]
    },
    {
     "data": {
      "text/plain": [
       "<keras.callbacks.History at 0x2778dcbe320>"
      ]
     },
     "execution_count": 17,
     "metadata": {},
     "output_type": "execute_result"
    }
   ],
   "source": [
    "cnn.fit(train_generator, steps_per_epoch=len(train_generator), epochs=30,validation_data=val_generator, \n",
    "        validation_steps=len(val_generator),callbacks=[checkpoint])"
   ]
  },
  {
   "cell_type": "markdown",
   "id": "769c6091",
   "metadata": {},
   "source": [
    "<b>Plot</b>"
   ]
  },
  {
   "cell_type": "code",
   "execution_count": 18,
   "id": "3e575f75",
   "metadata": {},
   "outputs": [
    {
     "data": {
      "image/png": "[encoded data removed]",
      "text/plain": [
       "<Figure size 1000x800 with 1 Axes>"
      ]
     },
     "metadata": {},
     "output_type": "display_data"
    }
   ],
   "source": [
    "pd.DataFrame(cnn.history.history).plot(figsize=(10,8))\n",
    "plt.grid(True)\n",
    "plt.gca().set_ylim(-0.25,1.25)\n",
    "plt.show()"
   ]
  },
  {
   "cell_type": "markdown",
   "id": "979aeb55",
   "metadata": {},
   "source": [
    "<b>Evaluating with test images</b>"
   ]
  },
  {
   "cell_type": "code",
   "execution_count": 33,
   "id": "d77c4d22",
   "metadata": {},
   "outputs": [
    {
     "name": "stdout",
     "output_type": "stream",
     "text": [
      "Insert the name of the file in order to predict it : imagen2\n"
     ]
    }
   ],
   "source": [
    "person = input(\"Insert the name of the file in order to predict it : \")"
   ]
  },
  {
   "cell_type": "code",
   "execution_count": 34,
   "id": "fd71a2fb",
   "metadata": {},
   "outputs": [
    {
     "name": "stdout",
     "output_type": "stream",
     "text": [
      "1/1 [==============================] - 0s 479ms/step\n",
      "Person is : miguel\n"
     ]
    }
   ],
   "source": [
    "person = person+\".jpeg\"\n",
    "image_test = os.path.join('./test/',person)\n",
    "    \n",
    "img = preprocessing.image.load_img(image_test, target_size=(224, 224), color_mode='rgb')\n",
    "\n",
    "img_array = preprocessing.image.img_to_array(img)\n",
    "\n",
    "img_array = img_array.reshape((1, img_array.shape[0], img_array.shape[1], img_array.shape[2]))\n",
    "\n",
    "img_preprocessed = preprocess_input(img_array)\n",
    "\n",
    "best_cnn = load_model('best_cnn.h5')\n",
    "\n",
    "preds = best_cnn.predict(img_preprocessed)\n",
    "\n",
    "max_index = np.argmax(preds)\n",
    "\n",
    "print(\"Person is : \" + labels[max_index])"
   ]
  },
  {
   "cell_type": "code",
   "execution_count": null,
   "id": "ac981fcf",
   "metadata": {},
   "outputs": [],
   "source": []
  }
 ],
 "metadata": {
  "colab": {
   "provenance": []
  },
  "kernelspec": {
   "display_name": "Python 3 (ipykernel)",
   "language": "python",
   "name": "python3"
  },
  "language_info": {
   "codemirror_mode": {
    "name": "ipython",
    "version": 3
   },
   "file_extension": ".py",
   "mimetype": "text/x-python",
   "name": "python",
   "nbconvert_exporter": "python",
   "pygments_lexer": "ipython3",
   "version": "3.10.9"
  }
 },
 "nbformat": 4,
 "nbformat_minor": 5
}
